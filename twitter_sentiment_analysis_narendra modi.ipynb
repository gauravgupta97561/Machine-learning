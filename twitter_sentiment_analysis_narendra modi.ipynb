{
 "cells": [
  {
   "cell_type": "code",
   "execution_count": 1,
   "metadata": {},
   "outputs": [],
   "source": [
    "# to check sentiment analysis from twitter\n",
    "import tweepy\n",
    "from textblob import TextBlob"
   ]
  },
  {
   "cell_type": "code",
   "execution_count": 2,
   "metadata": {},
   "outputs": [],
   "source": [
    "#setting variables\n",
    "consumer_key = ''# your consumer_key from Twitter\n",
    "consumer_secret =''# your consumer_secret from Twitter\n",
    "\n",
    "access_token ='' # your access_token from Twitter\n",
    "access_token_secret = ''# your access_token_secret from Twitter"
   ]
  },
  {
   "cell_type": "code",
   "execution_count": 3,
   "metadata": {},
   "outputs": [],
   "source": [
    "#logging in\n",
    "auth= tweepy.OAuthHandler(consumer_key, consumer_secret)\n",
    "auth.set_access_token(access_token, access_token_secret)"
   ]
  },
  {
   "cell_type": "code",
   "execution_count": 5,
   "metadata": {},
   "outputs": [
    {
     "name": "stdout",
     "output_type": "stream",
     "text": [
      "@RahulGandhi RahulGhandhi ji aap Philmi sitaro sab se aap bhi mile Narender modi jis tarah mil raha hai aap bhi mile kuchh damag lagay\n",
      "Sentiment(polarity=0.0, subjectivity=0.0)\n",
      "Sentiment(polarity=0.0, subjectivity=0.0)\n",
      "RT @Babble524: #ModiVsPakistan\n",
      "How Narender Modi ji is deweeding India \n",
      "By :-\n",
      "Sentiment(polarity=0.0, subjectivity=0.0)\n",
      "Sentiment(polarity=0.0, subjectivity=0.0)\n",
      "RT @RPArora4: @Pratyangira1 Narender modi jesa prime minister milna is Desh ka sobhgay h..\n",
      "Sentiment(polarity=0.0, subjectivity=0.0)\n",
      "Sentiment(polarity=0.0, subjectivity=0.0)\n",
      "RT @rssurjewala: Pl watch Trailor- \n",
      "\n",
      "A day in the life of ‘Poster Boy’ for ‘Bank Fraudsters Settlement Scheme abroad’!\n",
      "\n",
      "Director &amp; Producer…\n",
      "Sentiment(polarity=0.0, subjectivity=0.0)\n",
      "Sentiment(polarity=0.0, subjectivity=0.0)\n",
      "@Pratyangira1 Narender modi jesa prime minister milna is Desh ka sobhgay h..\n",
      "Sentiment(polarity=0.0, subjectivity=0.0)\n",
      "Sentiment(polarity=0.0, subjectivity=0.0)\n",
      "Bilkul thk kaha Apne .phir bhi horse riding,vohi Rajniti ka Ganda Khel,ab nhi chahie Alibaba or chalees choro wali… https://t.co/vN0CUpfsh4\n",
      "Sentiment(polarity=0.0, subjectivity=0.0)\n",
      "Sentiment(polarity=0.0, subjectivity=0.0)\n",
      "@aliaa08 Me vote for Narender Modi ji\n",
      "Sentiment(polarity=0.0, subjectivity=0.0)\n",
      "Sentiment(polarity=0.0, subjectivity=0.0)\n",
      "@ImNatri @BJP4Himachal @PavanRanaRSS @ianuragthakur @jairamthakurbjp @DhumalHP @TIRATHSRAWAT @PMOIndia… https://t.co/WqqIbqnuI3\n",
      "Sentiment(polarity=0.0, subjectivity=0.0)\n",
      "Sentiment(polarity=0.0, subjectivity=0.0)\n",
      "@Polytikle Sir ye bjp wale bahut bada wala gadha hai inko sarm Nahi ataa #jumlawaadinarendraModi jumla waadi Narend… https://t.co/HgDRP5Cl2D\n",
      "Sentiment(polarity=0.0, subjectivity=0.0)\n",
      "Sentiment(polarity=0.0, subjectivity=0.0)\n",
      "RT @Sultan_muaviya: @ValuesTrue @viveksinghpali1 @buddha2019 @smritiirani Namo No more Again Gujrat Ka Qatil RSS nagpur Narender modi No mo…\n",
      "Sentiment(polarity=-0.25, subjectivity=0.5)\n",
      "Sentiment(polarity=-0.25, subjectivity=0.5)\n",
      "RT @RammeharDabla: Accidental PM: Narender Modi\n",
      "\n",
      "Accidental Wife :Jashodaben\n",
      "\n",
      "Accidental Child : SambitPatra\n",
      "\n",
      "Accidental Female: SmiritIran…\n",
      "Sentiment(polarity=0.0, subjectivity=0.16666666666666666)\n",
      "Sentiment(polarity=0.0, subjectivity=0.16666666666666666)\n",
      "RT @Sultan_muaviya: @ValuesTrue @viveksinghpali1 @buddha2019 @smritiirani Namo No more Again Gujrat Ka Qatil RSS nagpur Narender modi No mo…\n",
      "Sentiment(polarity=-0.25, subjectivity=0.5)\n",
      "Sentiment(polarity=-0.25, subjectivity=0.5)\n",
      "@ValuesTrue @viveksinghpali1 @buddha2019 @smritiirani Namo No more Again Gujrat Ka Qatil RSS nagpur Narender modi N… https://t.co/rkgBQJkrE4\n",
      "Sentiment(polarity=-0.25, subjectivity=0.5)\n",
      "Sentiment(polarity=-0.25, subjectivity=0.5)\n",
      "@RahulGandhi In safe hand you mean Narender Modi.....\"are baba clear bola karo , Desh Modi ji ke hath me safe hai\"\n",
      "Sentiment(polarity=0.19687500000000002, subjectivity=0.5177083333333333)\n",
      "Sentiment(polarity=0.19687500000000002, subjectivity=0.5177083333333333)\n",
      "@RahulGandhi Sir Hamare South mein Telangana Mein Ek Nara Humne banaya tha Rahul sahab ke liye liye Narender Modi p… https://t.co/6gXTvKDZhY\n",
      "Sentiment(polarity=0.0, subjectivity=0.0)\n",
      "Sentiment(polarity=0.0, subjectivity=0.0)\n"
     ]
    }
   ],
   "source": [
    "#Twitter Magic\n",
    "import csv\n",
    "\n",
    "\n",
    "api = tweepy.API(auth)\n",
    "public_tweets = api.search('Narender Modi')\n",
    "\n",
    "with open ('write_scv.csv','w',  newline='') as f:\n",
    "        fieldnames = ['Tweet','sentiment','column3']\n",
    "        writer = csv.DictWriter(f,fieldnames )\n",
    "        writer.writeheader()\n",
    "        #writer.writerow({'Tweet' : data})\n",
    "        for tweet in public_tweets:\n",
    "            print(tweet.text)\n",
    "            text_twitter = (tweet.text)\n",
    "            analysis = TextBlob(tweet.text)\n",
    "            print(analysis.sentiment)\n",
    "            senti = (analysis.sentiment)\n",
    "            print(senti)\n",
    "            writer.writerow({'Tweet' : text_twitter , 'sentiment' : senti})\n"
   ]
  },
  {
   "cell_type": "code",
   "execution_count": null,
   "metadata": {},
   "outputs": [],
   "source": []
  }
 ],
 "metadata": {
  "kernelspec": {
   "display_name": "Python 3",
   "language": "python",
   "name": "python3"
  },
  "language_info": {
   "codemirror_mode": {
    "name": "ipython",
    "version": 3
   },
   "file_extension": ".py",
   "mimetype": "text/x-python",
   "name": "python",
   "nbconvert_exporter": "python",
   "pygments_lexer": "ipython3",
   "version": "3.6.4"
  }
 },
 "nbformat": 4,
 "nbformat_minor": 2
}
